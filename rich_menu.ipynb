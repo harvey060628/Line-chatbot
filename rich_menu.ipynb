{
 "cells": [
  {
   "cell_type": "code",
   "execution_count": 1,
   "metadata": {},
   "outputs": [],
   "source": [
    "'''\n",
    "\n",
    "輸入圖文選單的資料夾名，若已創建過的，請勿輸入，避免重複創造\n",
    "\n",
    "'''\n",
    "\n",
    "# rich_menu_array=['map_final','map_r','map_rr','map_rr','map_rrr','map_ru','map_ruu','map_rul','map_rull','map_rulu','map_rur','map_rurr','map_rurr2','map_ruru']\n",
    "rich_menu_array=['map_rrr']"
   ]
  },
  {
   "cell_type": "code",
   "execution_count": 2,
   "metadata": {},
   "outputs": [
    {
     "name": "stdout",
     "output_type": "stream",
     "text": [
      "-設定檔上傳結果\n",
      "richmenu-a9ad071471a5656aa1c304d720662daf\n",
      "-圖片上傳結果\n",
      "None\n"
     ]
    }
   ],
   "source": [
    "'''\n",
    "迴圈讀取本地列表，\n",
    "    上傳設定檔，取得id，並將id寫入檔案中，而後上傳圖片\n",
    "\n",
    "'''\n",
    "\n",
    "import json\n",
    "from linebot import LineBotApi\n",
    "\n",
    "# 載入安全設定檔\n",
    "secretFileContentJson=json.load(open(\"./line_secret_key\",'r',encoding='utf8'))\n",
    "line_bot_api = LineBotApi(secretFileContentJson.get(\"channel_access_token\"))\n",
    "\n",
    "from linebot.models import RichMenu\n",
    "\n",
    "for rich_menu_name in rich_menu_array:\n",
    "\n",
    "    \n",
    "    # 創建菜單，取得menuId\n",
    "    lineRichMenuId = line_bot_api.create_rich_menu(rich_menu=RichMenu.new_from_json_dict(json.load(open(\"material/map_all/\"+rich_menu_name+'/rich_menu.json','r',encoding='utf8'))))\n",
    "    print(\"-設定檔上傳結果\")\n",
    "    print(lineRichMenuId)\n",
    "\n",
    "                                           \n",
    "    # id寫入本地端                              \n",
    "    f = open(\"material/map_all/\"+rich_menu_name+\"/rich_menu_id\", \"w\",encoding='utf8')\n",
    "    f.write(lineRichMenuId)\n",
    "    f.close()                                       \n",
    " \n",
    "\n",
    "    # 上傳照片至該id\n",
    "    set_image_response=''\n",
    "    with open(\"material/map_all/\"+rich_menu_name+'/rich_menu.jpg', 'rb') as f:\n",
    "        set_image_response=line_bot_api.set_rich_menu_image(lineRichMenuId, 'image/jpeg', f)\n",
    "        \n",
    "    print(\"-圖片上傳結果\")                                               \n",
    "    print(set_image_response)\n",
    "                                                                 \n"
   ]
  },
  {
   "cell_type": "code",
   "execution_count": 1,
   "metadata": {},
   "outputs": [
    {
     "data": {
      "text/plain": [
       "[{\"areas\": [{\"action\": {\"text\": \"\\u5b64\\u55ae\\u5bc2\\u5bde\\u89ba\\u5f97\\u51b7\", \"type\": \"message\"}, \"bounds\": {\"height\": 1577, \"width\": 1527, \"x\": 80, \"y\": 46}}, {\"action\": {\"text\": \"\\u8ddf\\u6211\\u73a9~~\", \"type\": \"message\"}, \"bounds\": {\"height\": 766, \"width\": 727, \"x\": 1729, \"y\": 25}}, {\"action\": {\"text\": \"zzzzzzz\", \"type\": \"message\"}, \"bounds\": {\"height\": 770, \"width\": 741, \"x\": 1724, \"y\": 887}}], \"chatBarText\": \"\\u67e5\\u770b\\u66f4\\u591a\\u8cc7\\u8a0a\", \"name\": \"\\u5716\\u6587\\u9078\\u55ae 2\", \"richMenuId\": \"richmenu-25e50380bb4e73b6e7621dc0c93c14c2\", \"selected\": true, \"size\": {\"height\": 1686, \"width\": 2500}},\n",
       " {\"areas\": [{\"action\": {\"text\": \"\\u6211\\u8981\\u770bAI\", \"type\": \"message\"}, \"bounds\": {\"height\": 742, \"width\": 582, \"x\": 37, \"y\": 87}}, {\"action\": {\"text\": \"\\u96f2\\u670d\\u52d9\\u6b63\\u592f\\uff0c\\u5c31\\u696d\\u65b0\\u5c0e\\u5411\", \"type\": \"message\"}, \"bounds\": {\"height\": 738, \"width\": 652, \"x\": 1242, \"y\": 62}}, {\"action\": {\"text\": \"\\u5340\\u584a\\u93c8\\u4e5f\\u4e0d\\u932f\", \"type\": \"message\"}, \"bounds\": {\"height\": 697, \"width\": 611, \"x\": 627, \"y\": 99}}], \"chatBarText\": \"\\u5716\\u6587\\u9078\\u55ae\\u9996\\u9801\", \"name\": \"\\u9996\\u9801\", \"richMenuId\": \"richmenu-b7ac3cdec946f5a6893c3ad74a1ebdb1\", \"selected\": true, \"size\": {\"height\": 1686, \"width\": 2500}},\n",
       " {\"areas\": [{\"action\": {\"text\": \"\\u9ede\\u5c41\", \"type\": \"message\"}, \"bounds\": {\"height\": 999, \"width\": 703, \"x\": 49, \"y\": 627}}, {\"action\": {\"type\": \"uri\", \"uri\": \"line://app/101\"}, \"bounds\": {\"height\": 935, \"width\": 613, \"x\": 1002, \"y\": 455}}], \"chatBarText\": \"\\u67e5\\u770b\\u66f4\\u591a\\u8cc7\\u8a0a\", \"name\": \"\\u5716\\u6587\\u9078\\u55ae 1\", \"richMenuId\": \"richmenu-7c22a8aceb03c6fa912d9b67b2229185\", \"selected\": true, \"size\": {\"height\": 1686, \"width\": 2500}},\n",
       " {\"areas\": [{\"action\": {\"text\": \"\\u6211\\u8981\\u770bAI\", \"type\": \"message\"}, \"bounds\": {\"height\": 742, \"width\": 582, \"x\": 37, \"y\": 87}}, {\"action\": {\"text\": \"\\u96f2\\u670d\\u52d9\\u6b63\\u592f\\uff0c\\u5c31\\u696d\\u65b0\\u5c0e\\u5411\", \"type\": \"message\"}, \"bounds\": {\"height\": 738, \"width\": 652, \"x\": 1242, \"y\": 62}}, {\"action\": {\"text\": \"\\u5340\\u584a\\u93c8\\u4e5f\\u4e0d\\u932f\", \"type\": \"message\"}, \"bounds\": {\"height\": 697, \"width\": 611, \"x\": 627, \"y\": 99}}], \"chatBarText\": \"\\u5716\\u6587\\u9078\\u55ae\\u9996\\u9801\", \"name\": \"\\u9996\\u9801\", \"richMenuId\": \"richmenu-0b4bde75cf7e96f5cc0bd972b5dbf112\", \"selected\": true, \"size\": {\"height\": 1686, \"width\": 2500}},\n",
       " {\"areas\": [{\"action\": {\"data\": \"Charactor_archer\", \"text\": \"\\u9078\\u64c7\\u4e86\\u8077\\u696d - Archer\", \"type\": \"postback\"}, \"bounds\": {\"height\": 951, \"width\": 820, \"x\": 286, \"y\": 496}}, {\"action\": {\"data\": \"Charactor_warrior\", \"text\": \"\\u9078\\u64c7\\u4e86\\u8077\\u696d - Warrior\", \"type\": \"postback\"}, \"bounds\": {\"height\": 1026, \"width\": 849, \"x\": 1565, \"y\": 463}}], \"chatBarText\": \"\\u9ede\\u64ca\\u5716\\u793a\\u4f86\\u9078\\u64c7\\u89d2\\u8272\", \"name\": \"\\u5716\\u6587\\u9078\\u55ae_\\u89d2\\u8272\\u9078\\u64c7\", \"richMenuId\": \"richmenu-953e0ebb8ea5de1b2540cc1f7d8e1d28\", \"selected\": false, \"size\": {\"height\": 1686, \"width\": 2500}},\n",
       " {\"areas\": [{\"action\": {\"text\": \"\\u6211\\u8981\\u770bAI\", \"type\": \"message\"}, \"bounds\": {\"height\": 742, \"width\": 582, \"x\": 37, \"y\": 87}}, {\"action\": {\"text\": \"\\u96f2\\u670d\\u52d9\\u6b63\\u592f\\uff0c\\u5c31\\u696d\\u65b0\\u5c0e\\u5411\", \"type\": \"message\"}, \"bounds\": {\"height\": 738, \"width\": 652, \"x\": 1242, \"y\": 62}}, {\"action\": {\"text\": \"\\u5340\\u584a\\u93c8\\u4e5f\\u4e0d\\u932f\", \"type\": \"message\"}, \"bounds\": {\"height\": 697, \"width\": 611, \"x\": 627, \"y\": 99}}], \"chatBarText\": \"\\u5716\\u6587\\u9078\\u55ae\\u9996\\u9801\", \"name\": \"\\u9996\\u9801\", \"richMenuId\": \"richmenu-5d0980f629e421bd709edf15577d3e45\", \"selected\": true, \"size\": {\"height\": 1686, \"width\": 2500}},\n",
       " {\"areas\": [{\"action\": {\"text\": \"\\u6211\\u8981\\u770bAI\", \"type\": \"message\"}, \"bounds\": {\"height\": 742, \"width\": 582, \"x\": 37, \"y\": 87}}, {\"action\": {\"text\": \"\\u96f2\\u670d\\u52d9\\u6b63\\u592f\\uff0c\\u5c31\\u696d\\u65b0\\u5c0e\\u5411\", \"type\": \"message\"}, \"bounds\": {\"height\": 738, \"width\": 652, \"x\": 1242, \"y\": 62}}, {\"action\": {\"text\": \"\\u5340\\u584a\\u93c8\\u4e5f\\u4e0d\\u932f\", \"type\": \"message\"}, \"bounds\": {\"height\": 697, \"width\": 611, \"x\": 627, \"y\": 99}}], \"chatBarText\": \"\\u5716\\u6587\\u9078\\u55ae\\u9996\\u9801\", \"name\": \"\\u9996\\u9801\", \"richMenuId\": \"richmenu-895ed0e77f602dbdf88c145e555e2c3a\", \"selected\": true, \"size\": {\"height\": 1686, \"width\": 2500}},\n",
       " {\"areas\": [{\"action\": {\"text\": \"\\u6211\\u8981\\u770bAI\", \"type\": \"message\"}, \"bounds\": {\"height\": 742, \"width\": 582, \"x\": 37, \"y\": 87}}, {\"action\": {\"text\": \"\\u96f2\\u670d\\u52d9\\u6b63\\u592f\\uff0c\\u5c31\\u696d\\u65b0\\u5c0e\\u5411\", \"type\": \"message\"}, \"bounds\": {\"height\": 738, \"width\": 652, \"x\": 1242, \"y\": 62}}, {\"action\": {\"text\": \"\\u5340\\u584a\\u93c8\\u4e5f\\u4e0d\\u932f\", \"type\": \"message\"}, \"bounds\": {\"height\": 697, \"width\": 611, \"x\": 627, \"y\": 99}}], \"chatBarText\": \"\\u5716\\u6587\\u9078\\u55ae\\u9996\\u9801\", \"name\": \"\\u9996\\u9801\", \"richMenuId\": \"richmenu-19aeae0a1a5467c0c238802ab41dd8a0\", \"selected\": true, \"size\": {\"height\": 1686, \"width\": 2500}},\n",
       " {\"areas\": [{\"action\": {\"text\": \"\\u6211\\u8981\\u770bAI\", \"type\": \"message\"}, \"bounds\": {\"height\": 742, \"width\": 582, \"x\": 37, \"y\": 87}}, {\"action\": {\"text\": \"\\u96f2\\u670d\\u52d9\\u6b63\\u592f\\uff0c\\u5c31\\u696d\\u65b0\\u5c0e\\u5411\", \"type\": \"message\"}, \"bounds\": {\"height\": 738, \"width\": 652, \"x\": 1242, \"y\": 62}}, {\"action\": {\"text\": \"\\u5340\\u584a\\u93c8\\u4e5f\\u4e0d\\u932f\", \"type\": \"message\"}, \"bounds\": {\"height\": 697, \"width\": 611, \"x\": 627, \"y\": 99}}], \"chatBarText\": \"\\u5716\\u6587\\u9078\\u55ae\\u9996\\u9801\", \"name\": \"\\u9996\\u9801\", \"richMenuId\": \"richmenu-e5ddc697010fcb5ee7e66ecaacf6960c\", \"selected\": true, \"size\": {\"height\": 1686, \"width\": 2500}},\n",
       " {\"areas\": [{\"action\": {\"text\": \"\\u6211\\u8981\\u770bAI\", \"type\": \"message\"}, \"bounds\": {\"height\": 742, \"width\": 582, \"x\": 37, \"y\": 87}}, {\"action\": {\"text\": \"\\u96f2\\u670d\\u52d9\\u6b63\\u592f\\uff0c\\u5c31\\u696d\\u65b0\\u5c0e\\u5411\", \"type\": \"message\"}, \"bounds\": {\"height\": 738, \"width\": 652, \"x\": 1242, \"y\": 62}}, {\"action\": {\"text\": \"\\u5340\\u584a\\u93c8\\u4e5f\\u4e0d\\u932f\", \"type\": \"message\"}, \"bounds\": {\"height\": 697, \"width\": 611, \"x\": 627, \"y\": 99}}], \"chatBarText\": \"\\u5716\\u6587\\u9078\\u55ae\\u9996\\u9801\", \"name\": \"\\u9996\\u9801\", \"richMenuId\": \"richmenu-a16a96a8c5457d19499bbd310c15714f\", \"selected\": true, \"size\": {\"height\": 1686, \"width\": 2500}},\n",
       " {\"areas\": [{\"action\": {\"text\": \"\\u6211\\u8981\\u770bAI\", \"type\": \"message\"}, \"bounds\": {\"height\": 742, \"width\": 582, \"x\": 37, \"y\": 87}}, {\"action\": {\"text\": \"\\u96f2\\u670d\\u52d9\\u6b63\\u592f\\uff0c\\u5c31\\u696d\\u65b0\\u5c0e\\u5411\", \"type\": \"message\"}, \"bounds\": {\"height\": 738, \"width\": 652, \"x\": 1242, \"y\": 62}}, {\"action\": {\"text\": \"\\u5340\\u584a\\u93c8\\u4e5f\\u4e0d\\u932f\", \"type\": \"message\"}, \"bounds\": {\"height\": 697, \"width\": 611, \"x\": 627, \"y\": 99}}], \"chatBarText\": \"\\u5716\\u6587\\u9078\\u55ae\\u9996\\u9801\", \"name\": \"\\u9996\\u9801\", \"richMenuId\": \"richmenu-08fb950c3759dad456438e529b4e6fd8\", \"selected\": true, \"size\": {\"height\": 1686, \"width\": 2500}},\n",
       " {\"areas\": [{\"action\": {\"type\": \"uri\", \"uri\": \"https://www.cxcxc.io/awssaa/\"}, \"bounds\": {\"height\": 371, \"width\": 2405, \"x\": 41, \"y\": 697}}, {\"action\": {\"type\": \"uri\", \"uri\": \"https://www.cxcxc.io/\"}, \"bounds\": {\"height\": 570, \"width\": 1584, \"x\": 50, \"y\": 1081}}, {\"action\": {\"data\": \"menu=\\u516c\\u53f8\\u9996\\u9801\", \"text\": \"\\u56de\\u4e0a\\u4e00\\u9801\", \"type\": \"postback\"}, \"bounds\": {\"height\": 413, \"width\": 400, \"x\": 2021, \"y\": 1209}}], \"chatBarText\": \"\\u516c\\u53f8\\u9996\\u9801\", \"name\": \"\\u516c\\u53f8\\u9996\\u9801\", \"richMenuId\": \"richmenu-33fed2873d7344433ba9cd31327dfc3c\", \"selected\": true, \"size\": {\"height\": 1686, \"width\": 2500}},\n",
       " {\"areas\": [{\"action\": {\"text\": \"\\u6211\\u8981\\u770bAI\", \"type\": \"message\"}, \"bounds\": {\"height\": 742, \"width\": 582, \"x\": 37, \"y\": 87}}, {\"action\": {\"text\": \"\\u96f2\\u670d\\u52d9\\u6b63\\u592f\\uff0c\\u5c31\\u696d\\u65b0\\u5c0e\\u5411\", \"type\": \"message\"}, \"bounds\": {\"height\": 738, \"width\": 652, \"x\": 1242, \"y\": 62}}, {\"action\": {\"text\": \"\\u5340\\u584a\\u93c8\\u4e5f\\u4e0d\\u932f\", \"type\": \"message\"}, \"bounds\": {\"height\": 697, \"width\": 611, \"x\": 627, \"y\": 99}}], \"chatBarText\": \"\\u5716\\u6587\\u9078\\u55ae\\u9996\\u9801\", \"name\": \"\\u9996\\u9801\", \"richMenuId\": \"richmenu-1861f5f6a82c274d4a8cdac88dc70172\", \"selected\": true, \"size\": {\"height\": 1686, \"width\": 2500}},\n",
       " {\"areas\": [{\"action\": {\"type\": \"uri\", \"uri\": \"https://www.cxcxc.io/awssaa/\"}, \"bounds\": {\"height\": 371, \"width\": 2405, \"x\": 41, \"y\": 697}}, {\"action\": {\"type\": \"uri\", \"uri\": \"https://www.cxcxc.io/\"}, \"bounds\": {\"height\": 570, \"width\": 1584, \"x\": 50, \"y\": 1081}}, {\"action\": {\"data\": \"menu=\\u516c\\u53f8\\u9996\\u9801\", \"text\": \"\\u56de\\u4e0a\\u4e00\\u9801\", \"type\": \"postback\"}, \"bounds\": {\"height\": 413, \"width\": 400, \"x\": 2021, \"y\": 1209}}], \"chatBarText\": \"\\u516c\\u53f8\\u9996\\u9801\", \"name\": \"\\u516c\\u53f8\\u9996\\u9801\", \"richMenuId\": \"richmenu-49a797a329d27f72cb2edc91ede38caf\", \"selected\": true, \"size\": {\"height\": 1686, \"width\": 2500}},\n",
       " {\"areas\": [{\"action\": {\"text\": \"\\u6211\\u8981\\u770bAI\", \"type\": \"message\"}, \"bounds\": {\"height\": 742, \"width\": 582, \"x\": 37, \"y\": 87}}, {\"action\": {\"text\": \"\\u96f2\\u670d\\u52d9\\u6b63\\u592f\\uff0c\\u5c31\\u696d\\u65b0\\u5c0e\\u5411\", \"type\": \"message\"}, \"bounds\": {\"height\": 738, \"width\": 652, \"x\": 1242, \"y\": 62}}, {\"action\": {\"text\": \"\\u5340\\u584a\\u93c8\\u4e5f\\u4e0d\\u932f\", \"type\": \"message\"}, \"bounds\": {\"height\": 697, \"width\": 611, \"x\": 627, \"y\": 99}}], \"chatBarText\": \"\\u5716\\u6587\\u9078\\u55ae\\u9996\\u9801\", \"name\": \"\\u9996\\u9801\", \"richMenuId\": \"richmenu-66a48bb8a6a81c9a4442b7aef9fb97ab\", \"selected\": true, \"size\": {\"height\": 1686, \"width\": 2500}},\n",
       " {\"areas\": [{\"action\": {\"text\": \"\\u6211\\u8981\\u770bAI\", \"type\": \"message\"}, \"bounds\": {\"height\": 742, \"width\": 582, \"x\": 37, \"y\": 87}}, {\"action\": {\"text\": \"\\u96f2\\u670d\\u52d9\\u6b63\\u592f\\uff0c\\u5c31\\u696d\\u65b0\\u5c0e\\u5411\", \"type\": \"message\"}, \"bounds\": {\"height\": 738, \"width\": 652, \"x\": 1242, \"y\": 62}}, {\"action\": {\"text\": \"\\u5340\\u584a\\u93c8\\u4e5f\\u4e0d\\u932f\", \"type\": \"message\"}, \"bounds\": {\"height\": 697, \"width\": 611, \"x\": 627, \"y\": 99}}], \"chatBarText\": \"\\u5716\\u6587\\u9078\\u55ae\\u9996\\u9801\", \"name\": \"\\u9996\\u9801\", \"richMenuId\": \"richmenu-75e6137541f3c70eb058420736d2337d\", \"selected\": true, \"size\": {\"height\": 1686, \"width\": 2500}},\n",
       " {\"areas\": [{\"action\": {\"text\": \"\\u6211\\u8981\\u770bAI\", \"type\": \"message\"}, \"bounds\": {\"height\": 742, \"width\": 582, \"x\": 37, \"y\": 87}}, {\"action\": {\"text\": \"\\u96f2\\u670d\\u52d9\\u6b63\\u592f\\uff0c\\u5c31\\u696d\\u65b0\\u5c0e\\u5411\", \"type\": \"message\"}, \"bounds\": {\"height\": 738, \"width\": 652, \"x\": 1242, \"y\": 62}}, {\"action\": {\"text\": \"\\u5340\\u584a\\u93c8\\u4e5f\\u4e0d\\u932f\", \"type\": \"message\"}, \"bounds\": {\"height\": 697, \"width\": 611, \"x\": 627, \"y\": 99}}], \"chatBarText\": \"\\u5716\\u6587\\u9078\\u55ae\\u9996\\u9801\", \"name\": \"\\u9996\\u9801\", \"richMenuId\": \"richmenu-aee75b721e70fa4a0a1162da4670ee7e\", \"selected\": true, \"size\": {\"height\": 1686, \"width\": 2500}},\n",
       " {\"areas\": [{\"action\": {\"text\": \"\\u5b64\\u55ae\\u5bc2\\u5bde\\u89ba\\u5f97\\u51b7\", \"type\": \"message\"}, \"bounds\": {\"height\": 1577, \"width\": 1527, \"x\": 80, \"y\": 46}}, {\"action\": {\"text\": \"\\u8ddf\\u6211\\u73a9~~\", \"type\": \"message\"}, \"bounds\": {\"height\": 766, \"width\": 727, \"x\": 1729, \"y\": 25}}, {\"action\": {\"text\": \"zzzzzzz\", \"type\": \"message\"}, \"bounds\": {\"height\": 770, \"width\": 741, \"x\": 1724, \"y\": 887}}], \"chatBarText\": \"\\u67e5\\u770b\\u66f4\\u591a\\u8cc7\\u8a0a\", \"name\": \"\\u5716\\u6587\\u9078\\u55ae 2\", \"richMenuId\": \"richmenu-47ddd9a4022734d17113adbb5f72cf25\", \"selected\": true, \"size\": {\"height\": 1686, \"width\": 2500}},\n",
       " {\"areas\": [{\"action\": {\"text\": \"LittleMei\", \"type\": \"message\"}, \"bounds\": {\"height\": 999, \"width\": 703, \"x\": 49, \"y\": 627}}, {\"action\": {\"type\": \"uri\", \"uri\": \"line://app/101\"}, \"bounds\": {\"height\": 935, \"width\": 613, \"x\": 1002, \"y\": 455}}], \"chatBarText\": \"\\u67e5\\u770b\\u66f4\\u591a\\u8cc7\\u8a0a\", \"name\": \"\\u5716\\u6587\\u9078\\u55ae 1\", \"richMenuId\": \"richmenu-b9017643cdfce2492568f5262b190dd1\", \"selected\": true, \"size\": {\"height\": 1686, \"width\": 2500}}]"
      ]
     },
     "execution_count": 1,
     "metadata": {},
     "output_type": "execute_result"
    }
   ],
   "source": [
    "'''\n",
    "\n",
    "查詢帳號內擁有的richmenu \n",
    "\n",
    "'''\n",
    "\n",
    "from linebot import (\n",
    "    LineBotApi\n",
    ")\n",
    "\n",
    "import json\n",
    "\n",
    "secretFileContentJson=json.load(open(\"./line_secret_key\",'r',encoding='utf8'))\n",
    "line_bot_api = LineBotApi(secretFileContentJson.get(\"channel_access_token\"))\n",
    "\n",
    "line_bot_api.get_rich_menu_list()\n"
   ]
  },
  {
   "cell_type": "code",
   "execution_count": 2,
   "metadata": {},
   "outputs": [
    {
     "ename": "FileNotFoundError",
     "evalue": "[Errno 2] No such file or directory: 'material/LittleMei/rich_menu_id'",
     "output_type": "error",
     "traceback": [
      "\u001b[1;31m---------------------------------------------------------------------------\u001b[0m",
      "\u001b[1;31mFileNotFoundError\u001b[0m                         Traceback (most recent call last)",
      "\u001b[1;32m<ipython-input-2-be57fcbda3f2>\u001b[0m in \u001b[0;36m<module>\u001b[1;34m\u001b[0m\n\u001b[0;32m     19\u001b[0m \u001b[1;33m\u001b[0m\u001b[0m\n\u001b[0;32m     20\u001b[0m     \u001b[1;31m# 讀取rich_menu_id檔案，並告知 Line 進行刪除，並在刪除後，把本地檔案內容清除\u001b[0m\u001b[1;33m\u001b[0m\u001b[1;33m\u001b[0m\u001b[1;33m\u001b[0m\u001b[0m\n\u001b[1;32m---> 21\u001b[1;33m     \u001b[1;32mwith\u001b[0m \u001b[0mopen\u001b[0m\u001b[1;33m(\u001b[0m\u001b[1;34m\"material/\"\u001b[0m\u001b[1;33m+\u001b[0m\u001b[0mrich_menu_name\u001b[0m\u001b[1;33m+\u001b[0m\u001b[1;34m'/rich_menu_id'\u001b[0m\u001b[1;33m,\u001b[0m \u001b[1;34m'r'\u001b[0m\u001b[1;33m,\u001b[0m\u001b[0mencoding\u001b[0m\u001b[1;33m=\u001b[0m\u001b[1;34m'utf8'\u001b[0m\u001b[1;33m)\u001b[0m \u001b[1;32mas\u001b[0m \u001b[0mmyfile\u001b[0m\u001b[1;33m:\u001b[0m\u001b[1;33m\u001b[0m\u001b[1;33m\u001b[0m\u001b[0m\n\u001b[0m\u001b[0;32m     22\u001b[0m         \u001b[0mrich_menu_id\u001b[0m \u001b[1;33m=\u001b[0m \u001b[0mmyfile\u001b[0m\u001b[1;33m.\u001b[0m\u001b[0mread\u001b[0m\u001b[1;33m(\u001b[0m\u001b[1;33m)\u001b[0m\u001b[1;33m\u001b[0m\u001b[1;33m\u001b[0m\u001b[0m\n\u001b[0;32m     23\u001b[0m         \u001b[0mdeleteResult\u001b[0m \u001b[1;33m=\u001b[0m \u001b[0mline_bot_api\u001b[0m\u001b[1;33m.\u001b[0m\u001b[0mdelete_rich_menu\u001b[0m\u001b[1;33m(\u001b[0m\u001b[0mrich_menu_id\u001b[0m\u001b[1;33m)\u001b[0m\u001b[1;33m\u001b[0m\u001b[1;33m\u001b[0m\u001b[0m\n",
      "\u001b[1;31mFileNotFoundError\u001b[0m: [Errno 2] No such file or directory: 'material/LittleMei/rich_menu_id'"
     ]
    }
   ],
   "source": [
    "'''\n",
    "\n",
    "移除帳號內的richmenu\n",
    "\n",
    "'''\n",
    "\n",
    "from linebot import (\n",
    "    LineBotApi\n",
    ")\n",
    "\n",
    "import json\n",
    "secretFileContentJson=json.load(open(\"./line_secret_key\",'r',encoding='utf8'))\n",
    "line_bot_api = LineBotApi(secretFileContentJson.get(\"channel_access_token\"))\n",
    "\n",
    "# 設定要移除的rich_menu\n",
    "rich_menu_name_array = [\"LittleMei\"]\n",
    "\n",
    "for rich_menu_name in rich_menu_name_array:\n",
    "    \n",
    "    # 讀取rich_menu_id檔案，並告知 Line 進行刪除，並在刪除後，把本地檔案內容清除\n",
    "    with open(\"material/\"+rich_menu_name+'/rich_menu_id', 'r',encoding='utf8') as myfile:\n",
    "        rich_menu_id = myfile.read()\n",
    "        deleteResult = line_bot_api.delete_rich_menu(rich_menu_id)\n",
    "        print(deleteResult)\n",
    "        \n",
    "    f = open(\"material/\"+rich_menu_name+\"/rich_menu_id\", \"w\")\n",
    "    f.write('')\n",
    "    f.close() "
   ]
  },
  {
   "cell_type": "code",
   "execution_count": 5,
   "metadata": {},
   "outputs": [],
   "source": [
    "'''\n",
    "\n",
    "解除用戶綁定\n",
    "\n",
    "'''\n",
    "\n",
    "from linebot import (\n",
    "    LineBotApi\n",
    ")\n",
    "\n",
    "import json\n",
    "\n",
    "# rich_menu_id_array = [\"rich_menu_0\"]\n",
    "\n",
    "secretFileContentJson=json.load(open(\"./line_secret_key\",'r',encoding='utf8'))\n",
    "line_bot_api = LineBotApi(secretFileContentJson.get(\"channel_access_token\"))\n",
    "\n",
    "self_user_id='Ud29c5cf085e845db7c6457677116df4d'\n",
    "line_bot_api.unlink_rich_menu_from_user(self_user_id)"
   ]
  },
  {
   "cell_type": "code",
   "execution_count": 19,
   "metadata": {},
   "outputs": [],
   "source": [
    "'''\n",
    "\n",
    "綁定個人用戶進行測試\n",
    "\n",
    "'''\n",
    "\n",
    "from linebot import (\n",
    "    LineBotApi\n",
    ")\n",
    "\n",
    "import json\n",
    "\n",
    "# rich_menu_id_array = [\"rich_menu_0\"]\n",
    "\n",
    "secretFileContentJson=json.load(open(\"./line_secret_key\",'r',encoding='utf8'))\n",
    "line_bot_api = LineBotApi(secretFileContentJson.get(\"channel_access_token\"))\n",
    "\n",
    "self_user_id='Ud29c5cf085e845db7c6457677116df4d'\n",
    "rich_menu_id='richmenu-62d1b8717117640cdb9910e273452d35'\n",
    "\n",
    "line_bot_api.unlink_rich_menu_from_user(self_user_id)\n",
    "line_bot_api.link_rich_menu_to_user(self_user_id,rich_menu_id)"
   ]
  },
  {
   "cell_type": "code",
   "execution_count": null,
   "metadata": {},
   "outputs": [],
   "source": []
  }
 ],
 "metadata": {
  "kernelspec": {
   "display_name": "Python 3",
   "language": "python",
   "name": "python3"
  },
  "language_info": {
   "codemirror_mode": {
    "name": "ipython",
    "version": 3
   },
   "file_extension": ".py",
   "mimetype": "text/x-python",
   "name": "python",
   "nbconvert_exporter": "python",
   "pygments_lexer": "ipython3",
   "version": "3.7.6"
  }
 },
 "nbformat": 4,
 "nbformat_minor": 2
}
